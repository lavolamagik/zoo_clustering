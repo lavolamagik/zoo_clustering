{
 "cells": [
  {
   "cell_type": "markdown",
   "metadata": {},
   "source": [
    "# Clustering Jerárquico en el Dataset Zoo\n",
    "Este notebook es una base para la tarea de clustering jerárquico usando el dataset Zoo."
   ]
  },
  {
   "cell_type": "code",
   "execution_count": 1,
   "metadata": {},
   "outputs": [
    {
     "name": "stdout",
     "output_type": "stream",
     "text": [
      "Downloading from https://www.kaggle.com/api/v1/datasets/download/uciml/zoo-animal-classification?dataset_version_number=1...\n"
     ]
    },
    {
     "name": "stderr",
     "output_type": "stream",
     "text": [
      "100%|██████████| 1.85k/1.85k [00:00<00:00, 341kB/s]"
     ]
    },
    {
     "name": "stdout",
     "output_type": "stream",
     "text": [
      "Extracting files...\n",
      "Path to dataset files: C:\\Users\\rodrigoalonsodomingu\\.cache\\kagglehub\\datasets\\uciml\\zoo-animal-classification\\versions\\1\n"
     ]
    },
    {
     "name": "stderr",
     "output_type": "stream",
     "text": [
      "\n"
     ]
    }
   ],
   "source": [
    "# Paso 1: Cargar el dataset\n",
    "import kagglehub\n",
    "\n",
    "# Download latest version\n",
    "path = kagglehub.dataset_download(\"uciml/zoo-animal-classification\")\n",
    "\n",
    "print(\"Path to dataset files:\", path)"
   ]
  },
  {
   "cell_type": "code",
   "execution_count": null,
   "metadata": {},
   "outputs": [],
   "source": [
    "# Paso 2: Preprocesamiento (One Hot Encoding y Escalamiento)\n"
   ]
  },
  {
   "cell_type": "code",
   "execution_count": null,
   "metadata": {},
   "outputs": [],
   "source": [
    "# Paso 3: Clustering Jerárquico\n"
   ]
  },
  {
   "cell_type": "code",
   "execution_count": null,
   "metadata": {},
   "outputs": [],
   "source": [
    "# Paso 4: Heatmap\n"
   ]
  },
  {
   "cell_type": "markdown",
   "id": "bb0d747a",
   "metadata": {},
   "source": [
    "# Conclusiones\n",
    "Escribe aquí tus conclusiones sobre las agrupaciones obtenidas en el clustering jerárquico."
   ]
  },
  {
   "cell_type": "markdown",
   "id": "b125befc",
   "metadata": {},
   "source": [
    "## Pregunta 1\n",
    "1. ¿Cuántos clusters se pueden identificar claramente en el dendrograma?\n",
    "\n",
    "Escribe tu respuesta aquí."
   ]
  },
  {
   "cell_type": "markdown",
   "id": "c61a1f0f",
   "metadata": {},
   "source": [
    "## Pregunta 2\n",
    "2. ¿Qué características parecen determinar la formación de los clusters?\n",
    "\n",
    "Escribe tu respuesta aquí."
   ]
  },
  {
   "cell_type": "markdown",
   "id": "5425a5f1",
   "metadata": {},
   "source": [
    "## Pregunta 3\n",
    "3. ¿Los resultados del clustering tienen sentido biológico o zoológico?\n",
    "\n",
    "Escribe tu respuesta aquí."
   ]
  },
  {
   "cell_type": "markdown",
   "id": "5e00ec6a",
   "metadata": {},
   "source": [
    "## Pregunta 4\n",
    "4. ¿Cómo afecta la normalización de los datos al clustering?\n",
    "\n",
    "Escribe tu respuesta aquí."
   ]
  },
  {
   "cell_type": "markdown",
   "id": "0138317d",
   "metadata": {},
   "source": [
    "## Pregunta 5\n",
    "5. ¿Qué método de linkage utilizaste y por qué?\n",
    "\n",
    "Escribe tu respuesta aquí."
   ]
  },
  {
   "cell_type": "markdown",
   "id": "ee990c25",
   "metadata": {},
   "source": [
    "## Pregunta 6\n",
    "6. ¿Qué otras técnicas de clustering podrías aplicar a este dataset y por qué?\n",
    "\n",
    "Escribe tu respuesta aquí."
   ]
  }
 ],
 "metadata": {
  "kernelspec": {
   "display_name": "Python 3",
   "language": "python",
   "name": "python3"
  },
  "language_info": {
   "codemirror_mode": {
    "name": "ipython",
    "version": 3
   },
   "file_extension": ".py",
   "mimetype": "text/x-python",
   "name": "python",
   "nbconvert_exporter": "python",
   "pygments_lexer": "ipython3",
   "version": "3.12.5"
  }
 },
 "nbformat": 4,
 "nbformat_minor": 5
}
